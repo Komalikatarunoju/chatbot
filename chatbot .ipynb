{
 "cells": [
  {
   "cell_type": "code",
   "execution_count": null,
   "id": "706d3fc8",
   "metadata": {},
   "outputs": [
    {
     "name": "stdout",
     "output_type": "stream",
     "text": [
      "Welcome to the chatbot!\n",
      "You: hi\n",
      "Chatbot:  how can help you\n",
      "You: hello\n",
      "Chatbot: Hello!\n",
      "You: how are you\n",
      "Chatbot: I'm sorry, I didn't understand what you said.\n"
     ]
    }
   ],
   "source": [
    "# Import necessary libraries\n",
    "import random\n",
    "\n",
    "# Define a function that returns a random greeting message\n",
    "def greeting():\n",
    "    greetings = [\"Hi there!\", \"Hello!\", \"Greetings!\", \" how can help you\"]\n",
    "    return random.choice(greetings)\n",
    "\n",
    "# Define a function that returns a random farewell message\n",
    "def farewell():\n",
    "    farewells = [\"Goodbye!\", \"Bye bye!\", \"See you later!\"]\n",
    "    return random.choice(farewells)\n",
    "\n",
    "# Define a function that prompts the user for input and responds appropriately\n",
    "def chatbot():\n",
    "    print(\"Welcome to the chatbot!\")\n",
    "    while True:\n",
    "        user_input = input(\"You: \")\n",
    "        if user_input.lower() == \"hello\" or user_input.lower() == \"hi\":\n",
    "            print(\"Chatbot:\", greeting())\n",
    "        elif user_input.lower() == \"bye\":\n",
    "            print(\"Chatbot:\", farewell())\n",
    "            break\n",
    "        else:\n",
    "            print(\"Chatbot: I'm sorry, I didn't understand what you said.\")\n",
    "\n",
    "# Call the chatbot function\n",
    "chatbot()"
   ]
  },
  {
   "cell_type": "code",
   "execution_count": null,
   "id": "182558a8",
   "metadata": {},
   "outputs": [],
   "source": []
  }
 ],
 "metadata": {
  "kernelspec": {
   "display_name": "Python 3 (ipykernel)",
   "language": "python",
   "name": "python3"
  },
  "language_info": {
   "codemirror_mode": {
    "name": "ipython",
    "version": 3
   },
   "file_extension": ".py",
   "mimetype": "text/x-python",
   "name": "python",
   "nbconvert_exporter": "python",
   "pygments_lexer": "ipython3",
   "version": "3.10.9"
  }
 },
 "nbformat": 4,
 "nbformat_minor": 5
}
